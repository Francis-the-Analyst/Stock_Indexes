{
 "cells": [
  {
   "cell_type": "code",
   "execution_count": 2,
   "id": "3ab6724d",
   "metadata": {},
   "outputs": [],
   "source": [
    "import numpy as np\n",
    "import pandas as pd\n",
    "import yfinance as yf\n",
    "import seaborn as sns\n",
    "\n",
    "import statsmodels\n",
    "import statsmodels.api as sm\n",
    "from statsmodels.tsa.stattools import coint, adfuller\n",
    "\n",
    "import matplotlib.pyplot as plt"
   ]
  },
  {
   "cell_type": "code",
   "execution_count": 3,
   "id": "3a7f182c",
   "metadata": {},
   "outputs": [
    {
     "name": "stdout",
     "output_type": "stream",
     "text": [
      "[*********************100%***********************]  6 of 6 completed\n"
     ]
    }
   ],
   "source": [
    "symbol_list = ['^GDAXI', 'NQ=F', '^DJI', '^GSPC', '^IBEX', '^FCHI']\n",
    "prices = yf.download(symbol_list, start = '2000-12-31', end = '2022-12-31')\n",
    "prices = prices['Adj Close']\n",
    "df_changes = prices.pct_change(periods=1)\n",
    "df_cumsum = df_changes.cumsum()\n",
    "prices = df_cumsum"
   ]
  },
  {
   "cell_type": "code",
   "execution_count": 8,
   "id": "60d5165c",
   "metadata": {},
   "outputs": [],
   "source": [
    "prices.rename(columns ={'NQ=F':'nq', '^GDAXI': 'dax', '^DJI':'dow' ,'^GSPC': 'SP500', '^IBEX': 'ibex', '^FCHI' : ' cac'},\n",
    "             inplace = True)"
   ]
  },
  {
   "cell_type": "code",
   "execution_count": 5,
   "id": "d86603c8",
   "metadata": {},
   "outputs": [],
   "source": [
    "prices.dropna(inplace = True)"
   ]
  },
  {
   "cell_type": "code",
   "execution_count": 9,
   "id": "381f78d5",
   "metadata": {},
   "outputs": [
    {
     "data": {
      "text/html": [
       "<div>\n",
       "<style scoped>\n",
       "    .dataframe tbody tr th:only-of-type {\n",
       "        vertical-align: middle;\n",
       "    }\n",
       "\n",
       "    .dataframe tbody tr th {\n",
       "        vertical-align: top;\n",
       "    }\n",
       "\n",
       "    .dataframe thead th {\n",
       "        text-align: right;\n",
       "    }\n",
       "</style>\n",
       "<table border=\"1\" class=\"dataframe\">\n",
       "  <thead>\n",
       "    <tr style=\"text-align: right;\">\n",
       "      <th></th>\n",
       "      <th>nq</th>\n",
       "      <th>dow</th>\n",
       "      <th>cac</th>\n",
       "      <th>dax</th>\n",
       "      <th>SP500</th>\n",
       "      <th>ibex</th>\n",
       "    </tr>\n",
       "    <tr>\n",
       "      <th>Date</th>\n",
       "      <th></th>\n",
       "      <th></th>\n",
       "      <th></th>\n",
       "      <th></th>\n",
       "      <th></th>\n",
       "      <th></th>\n",
       "    </tr>\n",
       "  </thead>\n",
       "  <tbody>\n",
       "    <tr>\n",
       "      <th>2001-01-03</th>\n",
       "      <td>0.167013</td>\n",
       "      <td>0.028142</td>\n",
       "      <td>-0.019805</td>\n",
       "      <td>0.023075</td>\n",
       "      <td>0.050099</td>\n",
       "      <td>0.013293</td>\n",
       "    </tr>\n",
       "    <tr>\n",
       "      <th>2001-01-04</th>\n",
       "      <td>0.149816</td>\n",
       "      <td>0.025096</td>\n",
       "      <td>0.003407</td>\n",
       "      <td>0.013997</td>\n",
       "      <td>0.039546</td>\n",
       "      <td>0.056364</td>\n",
       "    </tr>\n",
       "    <tr>\n",
       "      <th>2001-01-05</th>\n",
       "      <td>0.072382</td>\n",
       "      <td>0.002149</td>\n",
       "      <td>-0.006560</td>\n",
       "      <td>0.014902</td>\n",
       "      <td>0.013304</td>\n",
       "      <td>0.056802</td>\n",
       "    </tr>\n",
       "    <tr>\n",
       "      <th>2001-01-08</th>\n",
       "      <td>0.086116</td>\n",
       "      <td>-0.001664</td>\n",
       "      <td>-0.010940</td>\n",
       "      <td>0.016447</td>\n",
       "      <td>0.011386</td>\n",
       "      <td>0.059114</td>\n",
       "    </tr>\n",
       "    <tr>\n",
       "      <th>2001-01-09</th>\n",
       "      <td>0.086547</td>\n",
       "      <td>-0.006259</td>\n",
       "      <td>-0.023083</td>\n",
       "      <td>0.018379</td>\n",
       "      <td>0.015198</td>\n",
       "      <td>0.054771</td>\n",
       "    </tr>\n",
       "    <tr>\n",
       "      <th>...</th>\n",
       "      <td>...</td>\n",
       "      <td>...</td>\n",
       "      <td>...</td>\n",
       "      <td>...</td>\n",
       "      <td>...</td>\n",
       "      <td>...</td>\n",
       "    </tr>\n",
       "    <tr>\n",
       "      <th>2022-12-08</th>\n",
       "      <td>2.395007</td>\n",
       "      <td>1.544657</td>\n",
       "      <td>0.703410</td>\n",
       "      <td>1.419532</td>\n",
       "      <td>1.555141</td>\n",
       "      <td>0.486751</td>\n",
       "    </tr>\n",
       "    <tr>\n",
       "      <th>2022-12-09</th>\n",
       "      <td>2.388503</td>\n",
       "      <td>1.535627</td>\n",
       "      <td>0.707973</td>\n",
       "      <td>1.426974</td>\n",
       "      <td>1.547791</td>\n",
       "      <td>0.494532</td>\n",
       "    </tr>\n",
       "    <tr>\n",
       "      <th>2022-12-12</th>\n",
       "      <td>2.400776</td>\n",
       "      <td>1.551417</td>\n",
       "      <td>0.703916</td>\n",
       "      <td>1.422515</td>\n",
       "      <td>1.562071</td>\n",
       "      <td>0.490877</td>\n",
       "    </tr>\n",
       "    <tr>\n",
       "      <th>2022-12-13</th>\n",
       "      <td>2.411705</td>\n",
       "      <td>1.554464</td>\n",
       "      <td>0.718115</td>\n",
       "      <td>1.435883</td>\n",
       "      <td>1.569360</td>\n",
       "      <td>0.499208</td>\n",
       "    </tr>\n",
       "    <tr>\n",
       "      <th>2022-12-14</th>\n",
       "      <td>2.414155</td>\n",
       "      <td>1.554464</td>\n",
       "      <td>0.718115</td>\n",
       "      <td>1.435883</td>\n",
       "      <td>1.569360</td>\n",
       "      <td>0.499208</td>\n",
       "    </tr>\n",
       "  </tbody>\n",
       "</table>\n",
       "<p>5670 rows × 6 columns</p>\n",
       "</div>"
      ],
      "text/plain": [
       "                  nq       dow       cac       dax     SP500      ibex\n",
       "Date                                                                  \n",
       "2001-01-03  0.167013  0.028142 -0.019805  0.023075  0.050099  0.013293\n",
       "2001-01-04  0.149816  0.025096  0.003407  0.013997  0.039546  0.056364\n",
       "2001-01-05  0.072382  0.002149 -0.006560  0.014902  0.013304  0.056802\n",
       "2001-01-08  0.086116 -0.001664 -0.010940  0.016447  0.011386  0.059114\n",
       "2001-01-09  0.086547 -0.006259 -0.023083  0.018379  0.015198  0.054771\n",
       "...              ...       ...       ...       ...       ...       ...\n",
       "2022-12-08  2.395007  1.544657  0.703410  1.419532  1.555141  0.486751\n",
       "2022-12-09  2.388503  1.535627  0.707973  1.426974  1.547791  0.494532\n",
       "2022-12-12  2.400776  1.551417  0.703916  1.422515  1.562071  0.490877\n",
       "2022-12-13  2.411705  1.554464  0.718115  1.435883  1.569360  0.499208\n",
       "2022-12-14  2.414155  1.554464  0.718115  1.435883  1.569360  0.499208\n",
       "\n",
       "[5670 rows x 6 columns]"
      ]
     },
     "execution_count": 9,
     "metadata": {},
     "output_type": "execute_result"
    }
   ],
   "source": [
    "prices"
   ]
  },
  {
   "cell_type": "code",
   "execution_count": 10,
   "id": "cbd0eeb5",
   "metadata": {},
   "outputs": [
    {
     "data": {
      "image/png": "[encoded data removed]",
      "text/plain": [
       "<Figure size 878.4x324 with 2 Axes>"
      ]
     },
     "metadata": {
      "needs_background": "light"
     },
     "output_type": "display_data"
    }
   ],
   "source": [
    "correlation_mat = prices.corr()\n",
    "plt.figure(figsize=(12.2,4.5))\n",
    "sns.heatmap(correlation_mat, annot = True)\n",
    "plt.title('Matriz de Correlación')\n",
    "plt.xlabel('Activos',fontsize=18)\n",
    "plt.ylabel('Activos',fontsize=18)\n",
    "plt.show()"
   ]
  },
  {
   "cell_type": "code",
   "execution_count": 11,
   "id": "0c9e36e4",
   "metadata": {},
   "outputs": [],
   "source": [
    "corr = prices.corr()"
   ]
  },
  {
   "cell_type": "code",
   "execution_count": 12,
   "id": "bb15292c",
   "metadata": {},
   "outputs": [
    {
     "data": {
      "text/html": [
       "<div>\n",
       "<style scoped>\n",
       "    .dataframe tbody tr th:only-of-type {\n",
       "        vertical-align: middle;\n",
       "    }\n",
       "\n",
       "    .dataframe tbody tr th {\n",
       "        vertical-align: top;\n",
       "    }\n",
       "\n",
       "    .dataframe thead th {\n",
       "        text-align: right;\n",
       "    }\n",
       "</style>\n",
       "<table border=\"1\" class=\"dataframe\">\n",
       "  <thead>\n",
       "    <tr style=\"text-align: right;\">\n",
       "      <th></th>\n",
       "      <th>nq</th>\n",
       "      <th>dow</th>\n",
       "      <th>cac</th>\n",
       "      <th>dax</th>\n",
       "      <th>SP500</th>\n",
       "      <th>ibex</th>\n",
       "    </tr>\n",
       "  </thead>\n",
       "  <tbody>\n",
       "    <tr>\n",
       "      <th>nq</th>\n",
       "      <td>1.000000</td>\n",
       "      <td>0.993607</td>\n",
       "      <td>0.917257</td>\n",
       "      <td>0.962025</td>\n",
       "      <td>0.993821</td>\n",
       "      <td>0.618828</td>\n",
       "    </tr>\n",
       "    <tr>\n",
       "      <th>dow</th>\n",
       "      <td>0.993607</td>\n",
       "      <td>1.000000</td>\n",
       "      <td>0.935602</td>\n",
       "      <td>0.961154</td>\n",
       "      <td>0.997872</td>\n",
       "      <td>0.632526</td>\n",
       "    </tr>\n",
       "    <tr>\n",
       "      <th>cac</th>\n",
       "      <td>0.917257</td>\n",
       "      <td>0.935602</td>\n",
       "      <td>1.000000</td>\n",
       "      <td>0.934628</td>\n",
       "      <td>0.943588</td>\n",
       "      <td>0.762800</td>\n",
       "    </tr>\n",
       "    <tr>\n",
       "      <th>dax</th>\n",
       "      <td>0.962025</td>\n",
       "      <td>0.961154</td>\n",
       "      <td>0.934628</td>\n",
       "      <td>1.000000</td>\n",
       "      <td>0.959595</td>\n",
       "      <td>0.771966</td>\n",
       "    </tr>\n",
       "    <tr>\n",
       "      <th>SP500</th>\n",
       "      <td>0.993821</td>\n",
       "      <td>0.997872</td>\n",
       "      <td>0.943588</td>\n",
       "      <td>0.959595</td>\n",
       "      <td>1.000000</td>\n",
       "      <td>0.630832</td>\n",
       "    </tr>\n",
       "    <tr>\n",
       "      <th>ibex</th>\n",
       "      <td>0.618828</td>\n",
       "      <td>0.632526</td>\n",
       "      <td>0.762800</td>\n",
       "      <td>0.771966</td>\n",
       "      <td>0.630832</td>\n",
       "      <td>1.000000</td>\n",
       "    </tr>\n",
       "  </tbody>\n",
       "</table>\n",
       "</div>"
      ],
      "text/plain": [
       "             nq       dow       cac       dax     SP500      ibex\n",
       "nq     1.000000  0.993607  0.917257  0.962025  0.993821  0.618828\n",
       "dow    0.993607  1.000000  0.935602  0.961154  0.997872  0.632526\n",
       " cac   0.917257  0.935602  1.000000  0.934628  0.943588  0.762800\n",
       "dax    0.962025  0.961154  0.934628  1.000000  0.959595  0.771966\n",
       "SP500  0.993821  0.997872  0.943588  0.959595  1.000000  0.630832\n",
       "ibex   0.618828  0.632526  0.762800  0.771966  0.630832  1.000000"
      ]
     },
     "execution_count": 12,
     "metadata": {},
     "output_type": "execute_result"
    }
   ],
   "source": [
    "corr"
   ]
  },
  {
   "cell_type": "code",
   "execution_count": 16,
   "id": "0db1af22",
   "metadata": {},
   "outputs": [
    {
     "name": "stderr",
     "output_type": "stream",
     "text": [
      "C:\\Users\\FRANCI~1\\AppData\\Local\\Temp/ipykernel_21300/2636774123.py:2: DeprecationWarning: `np.bool` is a deprecated alias for the builtin `bool`. To silence this warning, use `bool` by itself. Doing this will not modify any behavior and is safe. If you specifically wanted the numpy scalar type, use `np.bool_` here.\n",
      "Deprecated in NumPy 1.20; for more details and guidance: https://numpy.org/devdocs/release/1.20.0-notes.html#deprecations\n",
      "  mask = np.triu(np.ones_like(corr, dtype=np.bool))\n"
     ]
    },
    {
     "data": {
      "text/plain": [
       "<AxesSubplot:>"
      ]
     },
     "execution_count": 16,
     "metadata": {},
     "output_type": "execute_result"
    },
    {
     "data": {
      "image/png": "[encoded data removed]",
      "text/plain": [
       "<Figure size 432x288 with 2 Axes>"
      ]
     },
     "metadata": {
      "needs_background": "light"
     },
     "output_type": "display_data"
    }
   ],
   "source": [
    "#  Create a mask to hide upper part of the correlation matrix\n",
    "mask = np.triu(np.ones_like(corr, dtype=np.bool))\n",
    "\n",
    "#  Create heat map\n",
    "sns.heatmap(corr, cmap='YlGnBu', mask = mask)"
   ]
  },
  {
   "cell_type": "code",
   "execution_count": null,
   "id": "a7aa4701",
   "metadata": {},
   "outputs": [],
   "source": [
    "#  Create a data frame made of our percent changes for each underlying\n",
    "data = [SPY['pct'], TLT['pct'], GLD['pct'], XRX['pct'], FXB['pct'], AAPL['pct']]\n",
    "headers = ['SPY', 'TLT', 'GLD', 'XRX', 'FXB', 'AAPL']\n",
    "pct_frame = pd.concat(data, axis=1, keys=headers)\n",
    "\n",
    "#  Use the built in pandas function to calculate correlation\n",
    "corr_frame = pct_frame.corr()\n",
    "corr_frame"
   ]
  }
 ],
 "metadata": {
  "kernelspec": {
   "display_name": "Python 3 (ipykernel)",
   "language": "python",
   "name": "python3"
  },
  "language_info": {
   "codemirror_mode": {
    "name": "ipython",
    "version": 3
   },
   "file_extension": ".py",
   "mimetype": "text/x-python",
   "name": "python",
   "nbconvert_exporter": "python",
   "pygments_lexer": "ipython3",
   "version": "3.9.5"
  },
  "toc": {
   "base_numbering": 1,
   "nav_menu": {},
   "number_sections": true,
   "sideBar": true,
   "skip_h1_title": false,
   "title_cell": "Table of Contents",
   "title_sidebar": "Contents",
   "toc_cell": false,
   "toc_position": {},
   "toc_section_display": true,
   "toc_window_display": false
  },
  "varInspector": {
   "cols": {
    "lenName": 16,
    "lenType": 16,
    "lenVar": 40
   },
   "kernels_config": {
    "python": {
     "delete_cmd_postfix": "",
     "delete_cmd_prefix": "del ",
     "library": "var_list.py",
     "varRefreshCmd": "print(var_dic_list())"
    },
    "r": {
     "delete_cmd_postfix": ") ",
     "delete_cmd_prefix": "rm(",
     "library": "var_list.r",
     "varRefreshCmd": "cat(var_dic_list()) "
    }
   },
   "types_to_exclude": [
    "module",
    "function",
    "builtin_function_or_method",
    "instance",
    "_Feature"
   ],
   "window_display": false
  }
 },
 "nbformat": 4,
 "nbformat_minor": 5
}
